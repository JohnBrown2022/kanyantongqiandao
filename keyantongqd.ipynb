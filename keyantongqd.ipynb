{
 "cells": [
  {
   "cell_type": "code",
   "execution_count": 70,
   "metadata": {},
   "outputs": [],
   "source": [
    "from selenium import webdriver\n",
    "from time import sleep\n",
    "from selenium.webdriver.common.action_chains import ActionChains\n",
    "\n",
    "\n",
    "def checkin(username, password):\n",
    "    try:\n",
    "        #登录\n",
    "        daka = \"https://www.ablesci.com/site/login\"\n",
    "        driver = webdriver.Chrome()\n",
    "        driver.get(daka)\n",
    "        driver.find_element_by_id(\"username\").send_keys(\"{}\").format(username)\n",
    "        driver.find_element_by_id(\"password\").send_keys(\"{}\").format(password)\n",
    "        driver.find_element_by_xpath(\"/html/body/div[4]/div/div/form/div/div[1]/div/div/div/div/div/div[4]/button\").click()\n",
    "\n",
    "        sleep(3)\n",
    "\n",
    "        element=driver.find_element_by_xpath(\"/html/body/div[2]/div/ul[2]/li[1]/button\")\n",
    "        element.click()\n",
    "\n",
    "        #关闭浏览器\n",
    "        sleep(3)\n",
    "        driver.quit()\n",
    "    except Exception as e:\n",
    "    pass\n",
    "\n",
    "checkin(\"1846128548@qq.com\", \"calman.qzy.\")\n"
   ]
  },
  {
   "cell_type": "code",
   "execution_count": null,
   "metadata": {},
   "outputs": [],
   "source": []
  }
 ],
 "metadata": {
  "kernelspec": {
   "display_name": "Python 3",
   "language": "python",
   "name": "python3"
  },
  "language_info": {
   "codemirror_mode": {
    "name": "ipython",
    "version": 3
   },
   "file_extension": ".py",
   "mimetype": "text/x-python",
   "name": "python",
   "nbconvert_exporter": "python",
   "pygments_lexer": "ipython3",
   "version": "3.7.3"
  }
 },
 "nbformat": 4,
 "nbformat_minor": 2
}
